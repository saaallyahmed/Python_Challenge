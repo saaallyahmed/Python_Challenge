{
 "cells": [
  {
   "cell_type": "code",
   "execution_count": 317,
   "id": "ca1d7485",
   "metadata": {},
   "outputs": [],
   "source": [
    "import os\n",
    "import csv"
   ]
  },
  {
   "cell_type": "code",
   "execution_count": null,
   "id": "5e8de84e",
   "metadata": {},
   "outputs": [],
   "source": [
    "csvpath = os.path.join('..', 'Resources', 'budget_data.csv')\n",
    "csvpath\n"
   ]
  },
  {
   "cell_type": "code",
   "execution_count": 318,
   "id": "c84d521c",
   "metadata": {},
   "outputs": [],
   "source": [
    "with open(csvpath, 'r') as file_handler:\n",
    "    lines = file_handler.read()\n",
    "  \n",
    "   "
   ]
  },
  {
   "cell_type": "code",
   "execution_count": 319,
   "id": "75b5bef6",
   "metadata": {},
   "outputs": [
    {
     "name": "stdout",
     "output_type": "stream",
     "text": [
      "CSV Header: ['Date', 'Profit/Losses']\n",
      "financial Anylysis\n",
      "Total: $38382578\n",
      "Total months:86\n",
      "Average change: $-2315.12\n",
      "Greatest Increase in profits: Feb-2012 $1926159\n",
      "Greatest Increase in profits: Sep-2013 $-2196167\n"
     ]
    }
   ],
   "source": [
    "# Method 2: Improved Reading using CSV module\n",
    "\n",
    "with open(csvpath) as csvfile:\n",
    "  \n",
    "\n",
    "    # CSV reader specifies delimiter and variable that holds contents\n",
    "    csvreader = csv.reader(csvfile, delimiter=',')\n",
    "    \n",
    "    \n",
    "    # Read the header row first \n",
    "    csv_header = next(csvreader)\n",
    "    print(f\"CSV Header: {csv_header}\")\n",
    "    \n",
    " # Track various \n",
    "\n",
    "    month = []\n",
    "    profit_loss = []\n",
    "\n",
    "    \n",
    "    \n",
    "    # Read each row of data after header \n",
    "    \n",
    "    for row in csvreader:\n",
    "        month.append(row[0])\n",
    "        profit_loss.append(int(row[1]))\n",
    "        num_months = len(month)\n",
    "        total = sum(profit_loss)\n",
    "        \n",
    "        change = []\n",
    "        \n",
    "    for y in range(1,num_months):\n",
    "        current = profit_loss[y]\n",
    "        previous = profit_loss[y-1]\n",
    "        difference = current - previous\n",
    "        change.append(difference)\n",
    "        sum_of_changes = sum(change)\n",
    "        Count_of_changes = len(change)\n",
    "        Average_of_changes = round(sum_of_changes/Count_of_changes,2)\n",
    "        Decrease = min(change)\n",
    "        Increase = max(change)\n",
    "        greatest_increase = change.index(Increase) + 1\n",
    "        greatest_increase = (month [change.index(Increase) + 1])\n",
    "        greatest_decrease = change.index(Decrease)\n",
    "        greatest_decrease = (month [change.index(Decrease) + 1])\n",
    "        \n",
    "print(\"financial Anylysis\")\n",
    "print(f\"Total: ${total}\")\n",
    "print(f\"Total months:{num_months}\")\n",
    "print(f\"Average change: ${Average_of_changes}\")\n",
    "print(f\"Greatest Increase in profits: {greatest_increase} ${Increase}\")\n",
    "print(f\"Greatest Increase in profits: {greatest_decrease} ${Decrease}\")\n",
    "        \n",
    "    \n",
    "\n",
    "# Calculate the Average Revenue Change\n",
    "#average = sum(change_list) / len(change_list)"
   ]
  },
  {
   "cell_type": "code",
   "execution_count": null,
   "id": "e57a9565",
   "metadata": {},
   "outputs": [],
   "source": []
  },
  {
   "cell_type": "code",
   "execution_count": null,
   "id": "42ea94b2",
   "metadata": {},
   "outputs": [],
   "source": []
  },
  {
   "cell_type": "code",
   "execution_count": null,
   "id": "fb37aa46",
   "metadata": {},
   "outputs": [],
   "source": []
  }
 ],
 "metadata": {
  "kernelspec": {
   "display_name": "Python 3 (ipykernel)",
   "language": "python",
   "name": "python3"
  },
  "language_info": {
   "codemirror_mode": {
    "name": "ipython",
    "version": 3
   },
   "file_extension": ".py",
   "mimetype": "text/x-python",
   "name": "python",
   "nbconvert_exporter": "python",
   "pygments_lexer": "ipython3",
   "version": "3.9.7"
  }
 },
 "nbformat": 4,
 "nbformat_minor": 5
}
