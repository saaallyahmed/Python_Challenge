{
 "cells": [
  {
   "cell_type": "code",
   "execution_count": 2,
   "id": "7da2914e",
   "metadata": {},
   "outputs": [],
   "source": [
    "import os\n",
    "import csv"
   ]
  },
  {
   "cell_type": "code",
   "execution_count": 3,
   "id": "7fbc374d",
   "metadata": {},
   "outputs": [
    {
     "data": {
      "text/plain": [
       "'..\\\\Resources\\\\election_data.csv'"
      ]
     },
     "execution_count": 3,
     "metadata": {},
     "output_type": "execute_result"
    }
   ],
   "source": [
    "csvpath = os.path.join('..', 'Resources', 'election_data.csv')\n",
    "csvpath"
   ]
  },
  {
   "cell_type": "code",
   "execution_count": 4,
   "id": "97d11552",
   "metadata": {
    "scrolled": true
   },
   "outputs": [
    {
     "name": "stdout",
     "output_type": "stream",
     "text": [
      "CSV Header: ['Voter ID', 'County', 'Candidate']\n",
      "Election Results\n",
      "Total Votes: 3521001\n",
      "Khan: 63.000% (2218231)\n",
      "Correy: 20.000% (704200)\n",
      "Li: 14.000% (492940)\n",
      "OTooley: 3.000% (105630)\n",
      "Winner: Khan\n"
     ]
    }
   ],
   "source": [
    "with open(csvpath) as csvfile:\n",
    "  \n",
    "\n",
    "    # CSV reader specifies delimiter and variable that holds contents\n",
    "    csvreader = csv.reader(csvfile, delimiter=',')\n",
    "    \n",
    "    \n",
    "    # Read the header row first \n",
    "    csv_header = next(csvreader)\n",
    "    print(f\"CSV Header: {csv_header}\")\n",
    "    Candidate = []\n",
    "    Votes=[]\n",
    "    \n",
    "    for row in csvreader:\n",
    "        Candidate.append(row[2])\n",
    "        \n",
    "    Total_Votes = len(Candidate)\n",
    "    \n",
    "\n",
    "        \n",
    "    Khan_Votes = Candidate.count(\"Khan\")\n",
    "    Correy_Votes = Candidate.count (\"Correy\")\n",
    "    Li_Votes = Candidate.count(\"Li\")\n",
    "    OTooley_Votes = Candidate.count(\"O'Tooley\")\n",
    "    \n",
    "   \n",
    "   \n",
    "    \n",
    "    Khan_Win = Khan_Votes/Total_Votes\n",
    "    Correy_Win = Correy_Votes/Total_Votes\n",
    "    Li_Win = Li_Votes/Total_Votes\n",
    "    OTooley_Win = OTooley_Votes/Total_Votes\n",
    "    \n",
    " #find the Candidate with the most votes\n",
    "    Candidates_List = [Khan_Win, Correy_Win, Li_Win,OTooley_Win] \n",
    "    maxVotes =Candidates_List.index(max(Candidates_List))\n",
    "    if maxVotes == 0:\n",
    "        Winner = \"Khan\"\n",
    "    elif maxVotes == 1:\n",
    "        Winner = \"Correy\"\n",
    "    elif maxVotes == 2:\n",
    "        Winner = \"Li\"\n",
    "    else:\n",
    "        Winner =\"OTooley\"\n",
    "\n",
    "\n",
    "\n",
    "    \n",
    "print (\"Election Results\")\n",
    "print (f\"Total Votes: {Total_Votes}\")\n",
    "print (f\"Khan: {Khan_Win:.3%} ({Khan_Votes})\")\n",
    "print (f\"Correy: {Correy_Win:.3%} ({Correy_Votes})\")\n",
    "print (f\"Li: {Li_Win:.3%} ({Li_Votes})\")\n",
    "print (f\"OTooley: {OTooley_Win:.3%} ({OTooley_Votes})\")\n",
    "print(f\"Winner: {Winner}\")\n"
   ]
  },
  {
   "cell_type": "code",
   "execution_count": null,
   "id": "064d3d8e",
   "metadata": {},
   "outputs": [],
   "source": []
  },
  {
   "cell_type": "code",
   "execution_count": null,
   "id": "4734b163",
   "metadata": {},
   "outputs": [],
   "source": []
  }
 ],
 "metadata": {
  "kernelspec": {
   "display_name": "Python 3 (ipykernel)",
   "language": "python",
   "name": "python3"
  },
  "language_info": {
   "codemirror_mode": {
    "name": "ipython",
    "version": 3
   },
   "file_extension": ".py",
   "mimetype": "text/x-python",
   "name": "python",
   "nbconvert_exporter": "python",
   "pygments_lexer": "ipython3",
   "version": "3.9.7"
  }
 },
 "nbformat": 4,
 "nbformat_minor": 5
}
